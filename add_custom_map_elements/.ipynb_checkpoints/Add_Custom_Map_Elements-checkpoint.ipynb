{
 "cells": [
  {
   "cell_type": "markdown",
   "id": "c8e8ade5",
   "metadata": {},
   "source": [
    "# Initial Steps - Relevant Code from Tutorials 1-4"
   ]
  },
  {
   "cell_type": "code",
   "execution_count": null,
   "id": "1f817f6a",
   "metadata": {},
   "outputs": [],
   "source": [
    "# import libraries and plugins\n",
    "import pandas as pd\n",
    "import folium\n",
    "from folium.plugins import MarkerCluster\n",
    "\n",
    "# define file location\n",
    "# file can be downloaded at URL: https://data.cityofchicago.org/Public-Safety/Crimes-2001-to-Present/ijzp-q8t2/about_data\n",
    "input_data = \"D:/Tutorials/data/Crimes_-_2001_to_Present_20231109.csv\"\n",
    "\n",
    "# create dataframe\n",
    "df = pd.read_csv(input_data)\n",
    "\n",
    "# preview dataframe\n",
    "df.head()\n",
    "\n",
    "# Clean the data!!!!!!\n",
    "df = df.dropna(axis=0, how='any', subset=['Latitude','Longitude'])\n",
    "\n",
    "# Create new dataframe to map the first 1000 points\n",
    "df_1000 = df[0:1000]\n",
    "\n",
    "# define map variable\n",
    "m = folium.Map(\n",
    "    location=[41.8781, -87.6298],\n",
    ")\n",
    "\n",
    "# create marker_cluster variable\n",
    "marker_cluster = MarkerCluster().add_to(m)\n",
    "\n",
    "# map locations to marker_clusters\n",
    "for lat, lng in zip(df_1000.Latitude, df_1000.Longitude):\n",
    "    folium.Marker(\n",
    "        location=[lat,lng],\n",
    "        tooltip=\"Have fun with python folium!\",\n",
    "        popup=\"Add a single point tutorial\",\n",
    "        icon=folium.Icon(color=\"blue\"),\n",
    "    ).add_to(marker_cluster)\n",
    "    \n",
    "#display map    \n",
    "m"
   ]
  },
  {
   "cell_type": "markdown",
   "id": "ac864d27",
   "metadata": {},
   "source": [
    "# Toggle Scale, Zoom Control, and Limits - Tutorial 5"
   ]
  },
  {
   "cell_type": "code",
   "execution_count": null,
   "id": "be591d55",
   "metadata": {},
   "outputs": [],
   "source": [
    "# Define map variable\n"
   ]
  },
  {
   "cell_type": "code",
   "execution_count": null,
   "id": "4c890b46",
   "metadata": {},
   "outputs": [],
   "source": [
    "# Scale, default is False\n"
   ]
  },
  {
   "cell_type": "code",
   "execution_count": null,
   "id": "818e99a3",
   "metadata": {},
   "outputs": [],
   "source": [
    "# Zoom Control, default is true\n"
   ]
  },
  {
   "cell_type": "code",
   "execution_count": null,
   "id": "f6610f43",
   "metadata": {},
   "outputs": [],
   "source": [
    "# Set Limits\n",
    "\n",
    "# set our min and max lat/long\n",
    "# min_lon, max_lon = -89.5, -85.5\n",
    "# min_lat, max_lat = 41, 42.5\n",
    "\n"
   ]
  },
  {
   "cell_type": "markdown",
   "id": "c7035deb",
   "metadata": {},
   "source": [
    "# Basemap Tiles - Tutorial 6"
   ]
  },
  {
   "cell_type": "code",
   "execution_count": null,
   "id": "8bc852cf",
   "metadata": {},
   "outputs": [],
   "source": []
  },
  {
   "cell_type": "markdown",
   "id": "1e420322",
   "metadata": {},
   "source": [
    "# Grouping and Controlling - Tutorial 7"
   ]
  },
  {
   "cell_type": "code",
   "execution_count": null,
   "id": "ec8c3094",
   "metadata": {},
   "outputs": [],
   "source": []
  }
 ],
 "metadata": {
  "kernelspec": {
   "display_name": "Python 3 (ipykernel)",
   "language": "python",
   "name": "python3"
  },
  "language_info": {
   "codemirror_mode": {
    "name": "ipython",
    "version": 3
   },
   "file_extension": ".py",
   "mimetype": "text/x-python",
   "name": "python",
   "nbconvert_exporter": "python",
   "pygments_lexer": "ipython3",
   "version": "3.11.5"
  }
 },
 "nbformat": 4,
 "nbformat_minor": 5
}
